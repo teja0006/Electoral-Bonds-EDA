{
 "cells": [
  {
   "cell_type": "markdown",
   "id": "b599ecd2",
   "metadata": {
    "papermill": {
     "duration": 0.015207,
     "end_time": "2024-03-30T16:22:16.222905",
     "exception": false,
     "start_time": "2024-03-30T16:22:16.207698",
     "status": "completed"
    },
    "tags": []
   },
   "source": [
    "<h2>What are Electoral Bonds?</h2>\n",
    "<b style='font-size:18px'>Electoral Bonds were a mode of funding for political parties in India from their introduction in 2017 till they were struck down as unconstitutional by the Supreme Court on 15 February 2024.</b>\n",
    "</br>\n",
    "</br>\n",
    "<b style='font-size:18px'>As the Supreme Court bans the Electoral Bonds, it also orders the State Bank of India to release the data of all transactions of the bonds. Now let's analysis the data released by State Bank of India and draw out some Conclusions</b>"
   ]
  },
  {
   "cell_type": "markdown",
   "id": "fa2b9acf",
   "metadata": {
    "papermill": {
     "duration": 0.014529,
     "end_time": "2024-03-30T16:22:16.252438",
     "exception": false,
     "start_time": "2024-03-30T16:22:16.237909",
     "status": "completed"
    },
    "tags": []
   },
   "source": [
    "<h3><b>Importing Datasets</b></h3>"
   ]
  },
  {
   "cell_type": "code",
   "execution_count": 1,
   "id": "75b49efe",
   "metadata": {
    "_cell_guid": "b1076dfc-b9ad-4769-8c92-a6c4dae69d19",
    "_uuid": "8f2839f25d086af736a60e9eeb907d3b93b6e0e5",
    "execution": {
     "iopub.execute_input": "2024-03-30T16:22:16.284094Z",
     "iopub.status.busy": "2024-03-30T16:22:16.283478Z",
     "iopub.status.idle": "2024-03-30T16:22:18.612360Z",
     "shell.execute_reply": "2024-03-30T16:22:18.611399Z"
    },
    "papermill": {
     "duration": 2.348082,
     "end_time": "2024-03-30T16:22:18.615351",
     "exception": false,
     "start_time": "2024-03-30T16:22:16.267269",
     "status": "completed"
    },
    "tags": []
   },
   "outputs": [],
   "source": [
    "import pandas as pd\n",
    "import numpy as np\n",
    "import matplotlib.pyplot as plt\n",
    "import seaborn as sns"
   ]
  },
  {
   "cell_type": "markdown",
   "id": "32834c4c",
   "metadata": {
    "papermill": {
     "duration": 0.015342,
     "end_time": "2024-03-30T16:22:18.645563",
     "exception": false,
     "start_time": "2024-03-30T16:22:18.630221",
     "status": "completed"
    },
    "tags": []
   },
   "source": [
    "<h3><b>Reading the data</b></h3>"
   ]
  },
  {
   "cell_type": "code",
   "execution_count": 2,
   "id": "94de8143",
   "metadata": {
    "execution": {
     "iopub.execute_input": "2024-03-30T16:22:18.677453Z",
     "iopub.status.busy": "2024-03-30T16:22:18.676911Z",
     "iopub.status.idle": "2024-03-30T16:22:18.763124Z",
     "shell.execute_reply": "2024-03-30T16:22:18.761695Z"
    },
    "papermill": {
     "duration": 0.106959,
     "end_time": "2024-03-30T16:22:18.767268",
     "exception": false,
     "start_time": "2024-03-30T16:22:18.660309",
     "status": "completed"
    },
    "tags": []
   },
   "outputs": [],
   "source": [
    "encashment=pd.read_csv('./EncashmentData.csv')\n",
    "purchased=pd.read_csv('./PurchaseData.csv')"
   ]
  },
  {
   "cell_type": "code",
   "execution_count": 3,
   "id": "f11df8e4",
   "metadata": {
    "execution": {
     "iopub.execute_input": "2024-03-30T16:22:18.803069Z",
     "iopub.status.busy": "2024-03-30T16:22:18.802023Z",
     "iopub.status.idle": "2024-03-30T16:22:18.820301Z",
     "shell.execute_reply": "2024-03-30T16:22:18.819455Z"
    },
    "papermill": {
     "duration": 0.037872,
     "end_time": "2024-03-30T16:22:18.823402",
     "exception": false,
     "start_time": "2024-03-30T16:22:18.785530",
     "status": "completed"
    },
    "tags": []
   },
   "outputs": [
    {
     "data": {
      "text/html": [
       "<div>\n",
       "<style scoped>\n",
       "    .dataframe tbody tr th:only-of-type {\n",
       "        vertical-align: middle;\n",
       "    }\n",
       "\n",
       "    .dataframe tbody tr th {\n",
       "        vertical-align: top;\n",
       "    }\n",
       "\n",
       "    .dataframe thead th {\n",
       "        text-align: right;\n",
       "    }\n",
       "</style>\n",
       "<table border=\"1\" class=\"dataframe\">\n",
       "  <thead>\n",
       "    <tr style=\"text-align: right;\">\n",
       "      <th></th>\n",
       "      <th>Date of\\nEncashment</th>\n",
       "      <th>Name of the Political Party</th>\n",
       "      <th>Denomination</th>\n",
       "    </tr>\n",
       "  </thead>\n",
       "  <tbody>\n",
       "    <tr>\n",
       "      <th>0</th>\n",
       "      <td>12-Apr-19</td>\n",
       "      <td>ALL INDIA ANNA DRAVIDA MUNNETRA KAZHAGAM</td>\n",
       "      <td>1000000.0</td>\n",
       "    </tr>\n",
       "    <tr>\n",
       "      <th>1</th>\n",
       "      <td>12-Apr-19</td>\n",
       "      <td>ALL INDIA ANNA DRAVIDA MUNNETRA KAZHAGAM</td>\n",
       "      <td>1000000.0</td>\n",
       "    </tr>\n",
       "    <tr>\n",
       "      <th>2</th>\n",
       "      <td>12-Apr-19</td>\n",
       "      <td>ALL INDIA ANNA DRAVIDA MUNNETRA KAZHAGAM</td>\n",
       "      <td>10000000.0</td>\n",
       "    </tr>\n",
       "    <tr>\n",
       "      <th>3</th>\n",
       "      <td>12-Apr-19</td>\n",
       "      <td>ALL INDIA ANNA DRAVIDA MUNNETRA KAZHAGAM</td>\n",
       "      <td>1000000.0</td>\n",
       "    </tr>\n",
       "    <tr>\n",
       "      <th>4</th>\n",
       "      <td>12-Apr-19</td>\n",
       "      <td>ALL INDIA ANNA DRAVIDA MUNNETRA KAZHAGAM</td>\n",
       "      <td>1000000.0</td>\n",
       "    </tr>\n",
       "  </tbody>\n",
       "</table>\n",
       "</div>"
      ],
      "text/plain": [
       "  Date of\\nEncashment               Name of the Political Party  Denomination\n",
       "0           12-Apr-19  ALL INDIA ANNA DRAVIDA MUNNETRA KAZHAGAM     1000000.0\n",
       "1           12-Apr-19  ALL INDIA ANNA DRAVIDA MUNNETRA KAZHAGAM     1000000.0\n",
       "2           12-Apr-19  ALL INDIA ANNA DRAVIDA MUNNETRA KAZHAGAM    10000000.0\n",
       "3           12-Apr-19  ALL INDIA ANNA DRAVIDA MUNNETRA KAZHAGAM     1000000.0\n",
       "4           12-Apr-19  ALL INDIA ANNA DRAVIDA MUNNETRA KAZHAGAM     1000000.0"
      ]
     },
     "execution_count": 3,
     "metadata": {},
     "output_type": "execute_result"
    }
   ],
   "source": [
    "encashment.head()"
   ]
  },
  {
   "cell_type": "code",
   "execution_count": 4,
   "id": "67c057d6",
   "metadata": {
    "execution": {
     "iopub.execute_input": "2024-03-30T16:22:18.861590Z",
     "iopub.status.busy": "2024-03-30T16:22:18.860772Z",
     "iopub.status.idle": "2024-03-30T16:22:18.873283Z",
     "shell.execute_reply": "2024-03-30T16:22:18.872154Z"
    },
    "papermill": {
     "duration": 0.031796,
     "end_time": "2024-03-30T16:22:18.875819",
     "exception": false,
     "start_time": "2024-03-30T16:22:18.844023",
     "status": "completed"
    },
    "tags": []
   },
   "outputs": [
    {
     "data": {
      "text/html": [
       "<div>\n",
       "<style scoped>\n",
       "    .dataframe tbody tr th:only-of-type {\n",
       "        vertical-align: middle;\n",
       "    }\n",
       "\n",
       "    .dataframe tbody tr th {\n",
       "        vertical-align: top;\n",
       "    }\n",
       "\n",
       "    .dataframe thead th {\n",
       "        text-align: right;\n",
       "    }\n",
       "</style>\n",
       "<table border=\"1\" class=\"dataframe\">\n",
       "  <thead>\n",
       "    <tr style=\"text-align: right;\">\n",
       "      <th></th>\n",
       "      <th>Date of Purchase</th>\n",
       "      <th>Purchaser Name</th>\n",
       "      <th>Denomination</th>\n",
       "    </tr>\n",
       "  </thead>\n",
       "  <tbody>\n",
       "    <tr>\n",
       "      <th>0</th>\n",
       "      <td>12-Apr-19</td>\n",
       "      <td>A B C INDIA LIMITED</td>\n",
       "      <td>100000.0</td>\n",
       "    </tr>\n",
       "    <tr>\n",
       "      <th>1</th>\n",
       "      <td>12-Apr-19</td>\n",
       "      <td>A B C INDIA LIMITED</td>\n",
       "      <td>100000.0</td>\n",
       "    </tr>\n",
       "    <tr>\n",
       "      <th>2</th>\n",
       "      <td>12-Apr-19</td>\n",
       "      <td>A B C INDIA LIMITED</td>\n",
       "      <td>1000000.0</td>\n",
       "    </tr>\n",
       "    <tr>\n",
       "      <th>3</th>\n",
       "      <td>12-Apr-19</td>\n",
       "      <td>A B C INDIA LIMITED</td>\n",
       "      <td>1000000.0</td>\n",
       "    </tr>\n",
       "    <tr>\n",
       "      <th>4</th>\n",
       "      <td>12-Apr-19</td>\n",
       "      <td>A B C INDIA LIMITED</td>\n",
       "      <td>100000.0</td>\n",
       "    </tr>\n",
       "  </tbody>\n",
       "</table>\n",
       "</div>"
      ],
      "text/plain": [
       "  Date of Purchase       Purchaser Name  Denomination\n",
       "0        12-Apr-19  A B C INDIA LIMITED      100000.0\n",
       "1        12-Apr-19  A B C INDIA LIMITED      100000.0\n",
       "2        12-Apr-19  A B C INDIA LIMITED     1000000.0\n",
       "3        12-Apr-19  A B C INDIA LIMITED     1000000.0\n",
       "4        12-Apr-19  A B C INDIA LIMITED      100000.0"
      ]
     },
     "execution_count": 4,
     "metadata": {},
     "output_type": "execute_result"
    }
   ],
   "source": [
    "purchased.head()"
   ]
  },
  {
   "cell_type": "markdown",
   "id": "257764fe",
   "metadata": {
    "papermill": {
     "duration": 0.015017,
     "end_time": "2024-03-30T16:22:18.906323",
     "exception": false,
     "start_time": "2024-03-30T16:22:18.891306",
     "status": "completed"
    },
    "tags": []
   },
   "source": [
    "<h3><b>Data Preprocessing</b></h3>"
   ]
  },
  {
   "cell_type": "markdown",
   "id": "3b8dc3b7",
   "metadata": {
    "papermill": {
     "duration": 0.016511,
     "end_time": "2024-03-30T16:22:18.938198",
     "exception": false,
     "start_time": "2024-03-30T16:22:18.921687",
     "status": "completed"
    },
    "tags": []
   },
   "source": [
    "<p style='font-size:18px'>Rename the name of the Date of Encashment column</p>"
   ]
  },
  {
   "cell_type": "code",
   "execution_count": 5,
   "id": "16d893dc",
   "metadata": {
    "execution": {
     "iopub.execute_input": "2024-03-30T16:22:18.973022Z",
     "iopub.status.busy": "2024-03-30T16:22:18.972010Z",
     "iopub.status.idle": "2024-03-30T16:22:18.977910Z",
     "shell.execute_reply": "2024-03-30T16:22:18.977081Z"
    },
    "papermill": {
     "duration": 0.024896,
     "end_time": "2024-03-30T16:22:18.980198",
     "exception": false,
     "start_time": "2024-03-30T16:22:18.955302",
     "status": "completed"
    },
    "tags": []
   },
   "outputs": [],
   "source": [
    "encashment.rename(columns={'Date of\\nEncashment':'Date of Encashment'},inplace=True)"
   ]
  },
  {
   "cell_type": "code",
   "execution_count": 6,
   "id": "83fb146d",
   "metadata": {
    "execution": {
     "iopub.execute_input": "2024-03-30T16:22:19.013376Z",
     "iopub.status.busy": "2024-03-30T16:22:19.012562Z",
     "iopub.status.idle": "2024-03-30T16:22:19.025053Z",
     "shell.execute_reply": "2024-03-30T16:22:19.023895Z"
    },
    "papermill": {
     "duration": 0.031657,
     "end_time": "2024-03-30T16:22:19.027350",
     "exception": false,
     "start_time": "2024-03-30T16:22:18.995693",
     "status": "completed"
    },
    "tags": []
   },
   "outputs": [
    {
     "data": {
      "text/html": [
       "<div>\n",
       "<style scoped>\n",
       "    .dataframe tbody tr th:only-of-type {\n",
       "        vertical-align: middle;\n",
       "    }\n",
       "\n",
       "    .dataframe tbody tr th {\n",
       "        vertical-align: top;\n",
       "    }\n",
       "\n",
       "    .dataframe thead th {\n",
       "        text-align: right;\n",
       "    }\n",
       "</style>\n",
       "<table border=\"1\" class=\"dataframe\">\n",
       "  <thead>\n",
       "    <tr style=\"text-align: right;\">\n",
       "      <th></th>\n",
       "      <th>Date of Encashment</th>\n",
       "      <th>Name of the Political Party</th>\n",
       "      <th>Denomination</th>\n",
       "    </tr>\n",
       "  </thead>\n",
       "  <tbody>\n",
       "    <tr>\n",
       "      <th>0</th>\n",
       "      <td>12-Apr-19</td>\n",
       "      <td>ALL INDIA ANNA DRAVIDA MUNNETRA KAZHAGAM</td>\n",
       "      <td>1000000.0</td>\n",
       "    </tr>\n",
       "    <tr>\n",
       "      <th>1</th>\n",
       "      <td>12-Apr-19</td>\n",
       "      <td>ALL INDIA ANNA DRAVIDA MUNNETRA KAZHAGAM</td>\n",
       "      <td>1000000.0</td>\n",
       "    </tr>\n",
       "    <tr>\n",
       "      <th>2</th>\n",
       "      <td>12-Apr-19</td>\n",
       "      <td>ALL INDIA ANNA DRAVIDA MUNNETRA KAZHAGAM</td>\n",
       "      <td>10000000.0</td>\n",
       "    </tr>\n",
       "    <tr>\n",
       "      <th>3</th>\n",
       "      <td>12-Apr-19</td>\n",
       "      <td>ALL INDIA ANNA DRAVIDA MUNNETRA KAZHAGAM</td>\n",
       "      <td>1000000.0</td>\n",
       "    </tr>\n",
       "    <tr>\n",
       "      <th>4</th>\n",
       "      <td>12-Apr-19</td>\n",
       "      <td>ALL INDIA ANNA DRAVIDA MUNNETRA KAZHAGAM</td>\n",
       "      <td>1000000.0</td>\n",
       "    </tr>\n",
       "  </tbody>\n",
       "</table>\n",
       "</div>"
      ],
      "text/plain": [
       "  Date of Encashment               Name of the Political Party  Denomination\n",
       "0          12-Apr-19  ALL INDIA ANNA DRAVIDA MUNNETRA KAZHAGAM     1000000.0\n",
       "1          12-Apr-19  ALL INDIA ANNA DRAVIDA MUNNETRA KAZHAGAM     1000000.0\n",
       "2          12-Apr-19  ALL INDIA ANNA DRAVIDA MUNNETRA KAZHAGAM    10000000.0\n",
       "3          12-Apr-19  ALL INDIA ANNA DRAVIDA MUNNETRA KAZHAGAM     1000000.0\n",
       "4          12-Apr-19  ALL INDIA ANNA DRAVIDA MUNNETRA KAZHAGAM     1000000.0"
      ]
     },
     "execution_count": 6,
     "metadata": {},
     "output_type": "execute_result"
    }
   ],
   "source": [
    "encashment.head()"
   ]
  },
  {
   "cell_type": "code",
   "execution_count": 7,
   "id": "1aeed00d",
   "metadata": {
    "execution": {
     "iopub.execute_input": "2024-03-30T16:22:19.061152Z",
     "iopub.status.busy": "2024-03-30T16:22:19.060401Z",
     "iopub.status.idle": "2024-03-30T16:22:19.099245Z",
     "shell.execute_reply": "2024-03-30T16:22:19.097937Z"
    },
    "papermill": {
     "duration": 0.059246,
     "end_time": "2024-03-30T16:22:19.102025",
     "exception": false,
     "start_time": "2024-03-30T16:22:19.042779",
     "status": "completed"
    },
    "tags": []
   },
   "outputs": [
    {
     "name": "stdout",
     "output_type": "stream",
     "text": [
      "<class 'pandas.core.frame.DataFrame'>\n",
      "RangeIndex: 20846 entries, 0 to 20845\n",
      "Data columns (total 3 columns):\n",
      " #   Column                       Non-Null Count  Dtype  \n",
      "---  ------                       --------------  -----  \n",
      " 0   Date of Encashment           20421 non-null  object \n",
      " 1   Name of the Political Party  20421 non-null  object \n",
      " 2   Denomination                 20421 non-null  float64\n",
      "dtypes: float64(1), object(2)\n",
      "memory usage: 488.7+ KB\n"
     ]
    }
   ],
   "source": [
    "encashment.info()"
   ]
  },
  {
   "cell_type": "code",
   "execution_count": 8,
   "id": "53b9f31f",
   "metadata": {
    "execution": {
     "iopub.execute_input": "2024-03-30T16:22:19.135956Z",
     "iopub.status.busy": "2024-03-30T16:22:19.135525Z",
     "iopub.status.idle": "2024-03-30T16:22:19.142524Z",
     "shell.execute_reply": "2024-03-30T16:22:19.141455Z"
    },
    "papermill": {
     "duration": 0.026465,
     "end_time": "2024-03-30T16:22:19.145102",
     "exception": false,
     "start_time": "2024-03-30T16:22:19.118637",
     "status": "completed"
    },
    "tags": []
   },
   "outputs": [
    {
     "data": {
      "text/plain": [
       "(20846, 3)"
      ]
     },
     "execution_count": 8,
     "metadata": {},
     "output_type": "execute_result"
    }
   ],
   "source": [
    "encashment.shape"
   ]
  },
  {
   "cell_type": "code",
   "execution_count": 9,
   "id": "2624279f",
   "metadata": {
    "execution": {
     "iopub.execute_input": "2024-03-30T16:22:19.181503Z",
     "iopub.status.busy": "2024-03-30T16:22:19.180760Z",
     "iopub.status.idle": "2024-03-30T16:22:19.187623Z",
     "shell.execute_reply": "2024-03-30T16:22:19.186613Z"
    },
    "papermill": {
     "duration": 0.028928,
     "end_time": "2024-03-30T16:22:19.190170",
     "exception": false,
     "start_time": "2024-03-30T16:22:19.161242",
     "status": "completed"
    },
    "tags": []
   },
   "outputs": [
    {
     "data": {
      "text/plain": [
       "(19207, 3)"
      ]
     },
     "execution_count": 9,
     "metadata": {},
     "output_type": "execute_result"
    }
   ],
   "source": [
    "purchased.shape"
   ]
  },
  {
   "cell_type": "markdown",
   "id": "c943f67f",
   "metadata": {
    "papermill": {
     "duration": 0.015719,
     "end_time": "2024-03-30T16:22:19.223699",
     "exception": false,
     "start_time": "2024-03-30T16:22:19.207980",
     "status": "completed"
    },
    "tags": []
   },
   "source": [
    "<p style='font-size:18px'>Changing the dtype of Date of Encashment and Date of Purchased to datetime</p>"
   ]
  },
  {
   "cell_type": "code",
   "execution_count": 10,
   "id": "5e726e33",
   "metadata": {
    "execution": {
     "iopub.execute_input": "2024-03-30T16:22:19.258338Z",
     "iopub.status.busy": "2024-03-30T16:22:19.257432Z",
     "iopub.status.idle": "2024-03-30T16:22:22.240084Z",
     "shell.execute_reply": "2024-03-30T16:22:22.239007Z"
    },
    "papermill": {
     "duration": 3.003136,
     "end_time": "2024-03-30T16:22:22.242806",
     "exception": false,
     "start_time": "2024-03-30T16:22:19.239670",
     "status": "completed"
    },
    "tags": []
   },
   "outputs": [],
   "source": [
    "encashment['Date of Encashment']=encashment['Date of Encashment'].astype('datetime64[ns]')\n",
    "purchased['Date of Purchase']=purchased['Date of Purchase'].astype('datetime64[ns]')"
   ]
  },
  {
   "cell_type": "markdown",
   "id": "a4977f94",
   "metadata": {
    "papermill": {
     "duration": 0.016107,
     "end_time": "2024-03-30T16:22:22.274928",
     "exception": false,
     "start_time": "2024-03-30T16:22:22.258821",
     "status": "completed"
    },
    "tags": []
   },
   "source": [
    "<p style='font-size:18px'>Convert the Denomination value to millions as it becomes easy to deal it\n",
    "</p>"
   ]
  },
  {
   "cell_type": "code",
   "execution_count": 11,
   "id": "a26098ac",
   "metadata": {
    "execution": {
     "iopub.execute_input": "2024-03-30T16:22:22.309456Z",
     "iopub.status.busy": "2024-03-30T16:22:22.309078Z",
     "iopub.status.idle": "2024-03-30T16:22:22.316009Z",
     "shell.execute_reply": "2024-03-30T16:22:22.315122Z"
    },
    "papermill": {
     "duration": 0.027026,
     "end_time": "2024-03-30T16:22:22.318415",
     "exception": false,
     "start_time": "2024-03-30T16:22:22.291389",
     "status": "completed"
    },
    "tags": []
   },
   "outputs": [],
   "source": [
    "encashment['Denomination']=encashment['Denomination']/1000000\n",
    "purchased['Denomination']=purchased['Denomination']/1000000"
   ]
  },
  {
   "cell_type": "markdown",
   "id": "3067e576",
   "metadata": {
    "papermill": {
     "duration": 0.015722,
     "end_time": "2024-03-30T16:22:22.350399",
     "exception": false,
     "start_time": "2024-03-30T16:22:22.334677",
     "status": "completed"
    },
    "tags": []
   },
   "source": [
    "<p style='font-size:18px'>Renaming the Denomination to Denomination(in millions)</p>"
   ]
  },
  {
   "cell_type": "code",
   "execution_count": 12,
   "id": "5badcc51",
   "metadata": {
    "execution": {
     "iopub.execute_input": "2024-03-30T16:22:22.384893Z",
     "iopub.status.busy": "2024-03-30T16:22:22.384460Z",
     "iopub.status.idle": "2024-03-30T16:22:22.390445Z",
     "shell.execute_reply": "2024-03-30T16:22:22.389280Z"
    },
    "papermill": {
     "duration": 0.026378,
     "end_time": "2024-03-30T16:22:22.392782",
     "exception": false,
     "start_time": "2024-03-30T16:22:22.366404",
     "status": "completed"
    },
    "tags": []
   },
   "outputs": [],
   "source": [
    "encashment.rename(columns={'Denomination':'Denomination(in millions)'},inplace=True)\n",
    "purchased.rename(columns={'Denomination':'Denomination(in millions)'},inplace=True)"
   ]
  },
  {
   "cell_type": "markdown",
   "id": "46eea868",
   "metadata": {
    "papermill": {
     "duration": 0.015553,
     "end_time": "2024-03-30T16:22:22.424357",
     "exception": false,
     "start_time": "2024-03-30T16:22:22.408804",
     "status": "completed"
    },
    "tags": []
   },
   "source": [
    "<h4><b>Handling Null values</b></h4>"
   ]
  },
  {
   "cell_type": "code",
   "execution_count": 13,
   "id": "792e2c8b",
   "metadata": {
    "execution": {
     "iopub.execute_input": "2024-03-30T16:22:22.458092Z",
     "iopub.status.busy": "2024-03-30T16:22:22.457700Z",
     "iopub.status.idle": "2024-03-30T16:22:22.469333Z",
     "shell.execute_reply": "2024-03-30T16:22:22.468194Z"
    },
    "papermill": {
     "duration": 0.030858,
     "end_time": "2024-03-30T16:22:22.471495",
     "exception": false,
     "start_time": "2024-03-30T16:22:22.440637",
     "status": "completed"
    },
    "tags": []
   },
   "outputs": [
    {
     "data": {
      "text/plain": [
       "Date of Encashment             425\n",
       "Name of the Political Party    425\n",
       "Denomination(in millions)      425\n",
       "dtype: int64"
      ]
     },
     "execution_count": 13,
     "metadata": {},
     "output_type": "execute_result"
    }
   ],
   "source": [
    "encashment.isnull().sum()"
   ]
  },
  {
   "cell_type": "code",
   "execution_count": 14,
   "id": "0204d948",
   "metadata": {
    "execution": {
     "iopub.execute_input": "2024-03-30T16:22:22.564133Z",
     "iopub.status.busy": "2024-03-30T16:22:22.563023Z",
     "iopub.status.idle": "2024-03-30T16:22:22.573636Z",
     "shell.execute_reply": "2024-03-30T16:22:22.572817Z"
    },
    "papermill": {
     "duration": 0.030081,
     "end_time": "2024-03-30T16:22:22.575733",
     "exception": false,
     "start_time": "2024-03-30T16:22:22.545652",
     "status": "completed"
    },
    "tags": []
   },
   "outputs": [
    {
     "data": {
      "text/plain": [
       "Date of Purchase             336\n",
       "Purchaser Name               336\n",
       "Denomination(in millions)    336\n",
       "dtype: int64"
      ]
     },
     "execution_count": 14,
     "metadata": {},
     "output_type": "execute_result"
    }
   ],
   "source": [
    "purchased.isnull().sum()"
   ]
  },
  {
   "cell_type": "markdown",
   "id": "a929caf8",
   "metadata": {
    "papermill": {
     "duration": 0.017805,
     "end_time": "2024-03-30T16:22:22.609811",
     "exception": false,
     "start_time": "2024-03-30T16:22:22.592006",
     "status": "completed"
    },
    "tags": []
   },
   "source": [
    "<p style='font-size:18px'>Removing Null values</p>"
   ]
  },
  {
   "cell_type": "code",
   "execution_count": 15,
   "id": "0af49cb0",
   "metadata": {
    "execution": {
     "iopub.execute_input": "2024-03-30T16:22:22.644630Z",
     "iopub.status.busy": "2024-03-30T16:22:22.643980Z",
     "iopub.status.idle": "2024-03-30T16:22:22.659992Z",
     "shell.execute_reply": "2024-03-30T16:22:22.659030Z"
    },
    "papermill": {
     "duration": 0.036385,
     "end_time": "2024-03-30T16:22:22.662691",
     "exception": false,
     "start_time": "2024-03-30T16:22:22.626306",
     "status": "completed"
    },
    "tags": []
   },
   "outputs": [],
   "source": [
    "encashment.dropna(inplace=True)\n",
    "purchased.dropna(inplace=True)"
   ]
  },
  {
   "cell_type": "code",
   "execution_count": 16,
   "id": "69c9b7c8",
   "metadata": {
    "execution": {
     "iopub.execute_input": "2024-03-30T16:22:22.697363Z",
     "iopub.status.busy": "2024-03-30T16:22:22.696976Z",
     "iopub.status.idle": "2024-03-30T16:22:22.709172Z",
     "shell.execute_reply": "2024-03-30T16:22:22.708032Z"
    },
    "papermill": {
     "duration": 0.032206,
     "end_time": "2024-03-30T16:22:22.711434",
     "exception": false,
     "start_time": "2024-03-30T16:22:22.679228",
     "status": "completed"
    },
    "tags": []
   },
   "outputs": [
    {
     "data": {
      "text/html": [
       "<div>\n",
       "<style scoped>\n",
       "    .dataframe tbody tr th:only-of-type {\n",
       "        vertical-align: middle;\n",
       "    }\n",
       "\n",
       "    .dataframe tbody tr th {\n",
       "        vertical-align: top;\n",
       "    }\n",
       "\n",
       "    .dataframe thead th {\n",
       "        text-align: right;\n",
       "    }\n",
       "</style>\n",
       "<table border=\"1\" class=\"dataframe\">\n",
       "  <thead>\n",
       "    <tr style=\"text-align: right;\">\n",
       "      <th></th>\n",
       "      <th>Date of Encashment</th>\n",
       "      <th>Name of the Political Party</th>\n",
       "      <th>Denomination(in millions)</th>\n",
       "    </tr>\n",
       "  </thead>\n",
       "  <tbody>\n",
       "    <tr>\n",
       "      <th>0</th>\n",
       "      <td>2019-04-12</td>\n",
       "      <td>ALL INDIA ANNA DRAVIDA MUNNETRA KAZHAGAM</td>\n",
       "      <td>1.0</td>\n",
       "    </tr>\n",
       "    <tr>\n",
       "      <th>1</th>\n",
       "      <td>2019-04-12</td>\n",
       "      <td>ALL INDIA ANNA DRAVIDA MUNNETRA KAZHAGAM</td>\n",
       "      <td>1.0</td>\n",
       "    </tr>\n",
       "  </tbody>\n",
       "</table>\n",
       "</div>"
      ],
      "text/plain": [
       "  Date of Encashment               Name of the Political Party  \\\n",
       "0         2019-04-12  ALL INDIA ANNA DRAVIDA MUNNETRA KAZHAGAM   \n",
       "1         2019-04-12  ALL INDIA ANNA DRAVIDA MUNNETRA KAZHAGAM   \n",
       "\n",
       "   Denomination(in millions)  \n",
       "0                        1.0  \n",
       "1                        1.0  "
      ]
     },
     "execution_count": 16,
     "metadata": {},
     "output_type": "execute_result"
    }
   ],
   "source": [
    "encashment.head(2)"
   ]
  },
  {
   "cell_type": "code",
   "execution_count": 17,
   "id": "4c2ce70f",
   "metadata": {
    "execution": {
     "iopub.execute_input": "2024-03-30T16:22:22.748009Z",
     "iopub.status.busy": "2024-03-30T16:22:22.747634Z",
     "iopub.status.idle": "2024-03-30T16:22:22.758974Z",
     "shell.execute_reply": "2024-03-30T16:22:22.757806Z"
    },
    "papermill": {
     "duration": 0.032526,
     "end_time": "2024-03-30T16:22:22.761236",
     "exception": false,
     "start_time": "2024-03-30T16:22:22.728710",
     "status": "completed"
    },
    "tags": []
   },
   "outputs": [
    {
     "data": {
      "text/html": [
       "<div>\n",
       "<style scoped>\n",
       "    .dataframe tbody tr th:only-of-type {\n",
       "        vertical-align: middle;\n",
       "    }\n",
       "\n",
       "    .dataframe tbody tr th {\n",
       "        vertical-align: top;\n",
       "    }\n",
       "\n",
       "    .dataframe thead th {\n",
       "        text-align: right;\n",
       "    }\n",
       "</style>\n",
       "<table border=\"1\" class=\"dataframe\">\n",
       "  <thead>\n",
       "    <tr style=\"text-align: right;\">\n",
       "      <th></th>\n",
       "      <th>Date of Purchase</th>\n",
       "      <th>Purchaser Name</th>\n",
       "      <th>Denomination(in millions)</th>\n",
       "    </tr>\n",
       "  </thead>\n",
       "  <tbody>\n",
       "    <tr>\n",
       "      <th>0</th>\n",
       "      <td>2019-04-12</td>\n",
       "      <td>A B C INDIA LIMITED</td>\n",
       "      <td>0.1</td>\n",
       "    </tr>\n",
       "    <tr>\n",
       "      <th>1</th>\n",
       "      <td>2019-04-12</td>\n",
       "      <td>A B C INDIA LIMITED</td>\n",
       "      <td>0.1</td>\n",
       "    </tr>\n",
       "  </tbody>\n",
       "</table>\n",
       "</div>"
      ],
      "text/plain": [
       "  Date of Purchase       Purchaser Name  Denomination(in millions)\n",
       "0       2019-04-12  A B C INDIA LIMITED                        0.1\n",
       "1       2019-04-12  A B C INDIA LIMITED                        0.1"
      ]
     },
     "execution_count": 17,
     "metadata": {},
     "output_type": "execute_result"
    }
   ],
   "source": [
    "purchased.head(2)"
   ]
  },
  {
   "cell_type": "markdown",
   "id": "b86a0a33",
   "metadata": {
    "papermill": {
     "duration": 0.016472,
     "end_time": "2024-03-30T16:22:22.794783",
     "exception": false,
     "start_time": "2024-03-30T16:22:22.778311",
     "status": "completed"
    },
    "tags": []
   },
   "source": [
    "<h4><b>Handling Duplicates</b></h4>"
   ]
  },
  {
   "cell_type": "code",
   "execution_count": 18,
   "id": "3c15af50",
   "metadata": {
    "execution": {
     "iopub.execute_input": "2024-03-30T16:22:22.830457Z",
     "iopub.status.busy": "2024-03-30T16:22:22.829864Z",
     "iopub.status.idle": "2024-03-30T16:22:22.841913Z",
     "shell.execute_reply": "2024-03-30T16:22:22.840931Z"
    },
    "papermill": {
     "duration": 0.032455,
     "end_time": "2024-03-30T16:22:22.844050",
     "exception": false,
     "start_time": "2024-03-30T16:22:22.811595",
     "status": "completed"
    },
    "tags": []
   },
   "outputs": [
    {
     "data": {
      "text/plain": [
       "19577"
      ]
     },
     "execution_count": 18,
     "metadata": {},
     "output_type": "execute_result"
    }
   ],
   "source": [
    "encashment.duplicated().sum()"
   ]
  },
  {
   "cell_type": "code",
   "execution_count": 19,
   "id": "ca70507c",
   "metadata": {
    "execution": {
     "iopub.execute_input": "2024-03-30T16:22:22.880254Z",
     "iopub.status.busy": "2024-03-30T16:22:22.879436Z",
     "iopub.status.idle": "2024-03-30T16:22:22.890961Z",
     "shell.execute_reply": "2024-03-30T16:22:22.890160Z"
    },
    "papermill": {
     "duration": 0.03188,
     "end_time": "2024-03-30T16:22:22.892993",
     "exception": false,
     "start_time": "2024-03-30T16:22:22.861113",
     "status": "completed"
    },
    "tags": []
   },
   "outputs": [
    {
     "data": {
      "text/plain": [
       "16429"
      ]
     },
     "execution_count": 19,
     "metadata": {},
     "output_type": "execute_result"
    }
   ],
   "source": [
    "purchased.duplicated().sum()"
   ]
  },
  {
   "cell_type": "markdown",
   "id": "b57a9c3f",
   "metadata": {
    "papermill": {
     "duration": 0.016763,
     "end_time": "2024-03-30T16:22:22.926869",
     "exception": false,
     "start_time": "2024-03-30T16:22:22.910106",
     "status": "completed"
    },
    "tags": []
   },
   "source": [
    "<p style='font-size:18px'>The data consists of many duplicated values. Let's remove the the duplicated values in both the tables</p>"
   ]
  },
  {
   "cell_type": "code",
   "execution_count": 20,
   "id": "a9bc2ad5",
   "metadata": {
    "execution": {
     "iopub.execute_input": "2024-03-30T16:22:22.963128Z",
     "iopub.status.busy": "2024-03-30T16:22:22.962225Z",
     "iopub.status.idle": "2024-03-30T16:22:22.976465Z",
     "shell.execute_reply": "2024-03-30T16:22:22.975673Z"
    },
    "papermill": {
     "duration": 0.03495,
     "end_time": "2024-03-30T16:22:22.978876",
     "exception": false,
     "start_time": "2024-03-30T16:22:22.943926",
     "status": "completed"
    },
    "tags": []
   },
   "outputs": [],
   "source": [
    "encashment.drop_duplicates(ignore_index=True,inplace=True)\n",
    "purchased.drop_duplicates(ignore_index=True,inplace=True)"
   ]
  },
  {
   "cell_type": "markdown",
   "id": "3e0f7507",
   "metadata": {
    "papermill": {
     "duration": 0.016871,
     "end_time": "2024-03-30T16:22:23.012901",
     "exception": false,
     "start_time": "2024-03-30T16:22:22.996030",
     "status": "completed"
    },
    "tags": []
   },
   "source": [
    "<p style='font-size:18px'>Set the Date of Purchase and Date of Encashment as index in their respective tables</p>"
   ]
  },
  {
   "cell_type": "code",
   "execution_count": 21,
   "id": "3e670e0b",
   "metadata": {
    "execution": {
     "iopub.execute_input": "2024-03-30T16:22:23.049598Z",
     "iopub.status.busy": "2024-03-30T16:22:23.049201Z",
     "iopub.status.idle": "2024-03-30T16:22:23.056496Z",
     "shell.execute_reply": "2024-03-30T16:22:23.055242Z"
    },
    "papermill": {
     "duration": 0.028466,
     "end_time": "2024-03-30T16:22:23.058826",
     "exception": false,
     "start_time": "2024-03-30T16:22:23.030360",
     "status": "completed"
    },
    "tags": []
   },
   "outputs": [],
   "source": [
    "encashment.set_index('Date of Encashment',inplace=True)\n",
    "purchased.set_index('Date of Purchase',inplace=True)"
   ]
  },
  {
   "cell_type": "code",
   "execution_count": 22,
   "id": "2802a6aa",
   "metadata": {
    "execution": {
     "iopub.execute_input": "2024-03-30T16:22:23.104081Z",
     "iopub.status.busy": "2024-03-30T16:22:23.103176Z",
     "iopub.status.idle": "2024-03-30T16:22:23.116434Z",
     "shell.execute_reply": "2024-03-30T16:22:23.115427Z"
    },
    "papermill": {
     "duration": 0.037045,
     "end_time": "2024-03-30T16:22:23.118640",
     "exception": false,
     "start_time": "2024-03-30T16:22:23.081595",
     "status": "completed"
    },
    "tags": []
   },
   "outputs": [
    {
     "data": {
      "text/html": [
       "<div>\n",
       "<style scoped>\n",
       "    .dataframe tbody tr th:only-of-type {\n",
       "        vertical-align: middle;\n",
       "    }\n",
       "\n",
       "    .dataframe tbody tr th {\n",
       "        vertical-align: top;\n",
       "    }\n",
       "\n",
       "    .dataframe thead th {\n",
       "        text-align: right;\n",
       "    }\n",
       "</style>\n",
       "<table border=\"1\" class=\"dataframe\">\n",
       "  <thead>\n",
       "    <tr style=\"text-align: right;\">\n",
       "      <th></th>\n",
       "      <th>Name of the Political Party</th>\n",
       "      <th>Denomination(in millions)</th>\n",
       "    </tr>\n",
       "    <tr>\n",
       "      <th>Date of Encashment</th>\n",
       "      <th></th>\n",
       "      <th></th>\n",
       "    </tr>\n",
       "  </thead>\n",
       "  <tbody>\n",
       "    <tr>\n",
       "      <th>2019-04-12</th>\n",
       "      <td>ALL INDIA ANNA DRAVIDA MUNNETRA KAZHAGAM</td>\n",
       "      <td>1.0</td>\n",
       "    </tr>\n",
       "    <tr>\n",
       "      <th>2019-04-12</th>\n",
       "      <td>ALL INDIA ANNA DRAVIDA MUNNETRA KAZHAGAM</td>\n",
       "      <td>10.0</td>\n",
       "    </tr>\n",
       "    <tr>\n",
       "      <th>2019-04-12</th>\n",
       "      <td>BHARAT RASHTRA SAMITHI</td>\n",
       "      <td>10.0</td>\n",
       "    </tr>\n",
       "    <tr>\n",
       "      <th>2019-04-12</th>\n",
       "      <td>BHARAT RASHTRA SAMITHI</td>\n",
       "      <td>1.0</td>\n",
       "    </tr>\n",
       "    <tr>\n",
       "      <th>2019-04-12</th>\n",
       "      <td>BHARTIYA JANTA PARTY</td>\n",
       "      <td>1.0</td>\n",
       "    </tr>\n",
       "  </tbody>\n",
       "</table>\n",
       "</div>"
      ],
      "text/plain": [
       "                                 Name of the Political Party  \\\n",
       "Date of Encashment                                             \n",
       "2019-04-12          ALL INDIA ANNA DRAVIDA MUNNETRA KAZHAGAM   \n",
       "2019-04-12          ALL INDIA ANNA DRAVIDA MUNNETRA KAZHAGAM   \n",
       "2019-04-12                            BHARAT RASHTRA SAMITHI   \n",
       "2019-04-12                            BHARAT RASHTRA SAMITHI   \n",
       "2019-04-12                              BHARTIYA JANTA PARTY   \n",
       "\n",
       "                    Denomination(in millions)  \n",
       "Date of Encashment                             \n",
       "2019-04-12                                1.0  \n",
       "2019-04-12                               10.0  \n",
       "2019-04-12                               10.0  \n",
       "2019-04-12                                1.0  \n",
       "2019-04-12                                1.0  "
      ]
     },
     "execution_count": 22,
     "metadata": {},
     "output_type": "execute_result"
    }
   ],
   "source": [
    "encashment.head()"
   ]
  },
  {
   "cell_type": "code",
   "execution_count": 23,
   "id": "5b07ddae",
   "metadata": {
    "execution": {
     "iopub.execute_input": "2024-03-30T16:22:23.157983Z",
     "iopub.status.busy": "2024-03-30T16:22:23.157272Z",
     "iopub.status.idle": "2024-03-30T16:22:23.168386Z",
     "shell.execute_reply": "2024-03-30T16:22:23.167256Z"
    },
    "papermill": {
     "duration": 0.032463,
     "end_time": "2024-03-30T16:22:23.170987",
     "exception": false,
     "start_time": "2024-03-30T16:22:23.138524",
     "status": "completed"
    },
    "tags": []
   },
   "outputs": [
    {
     "data": {
      "text/html": [
       "<div>\n",
       "<style scoped>\n",
       "    .dataframe tbody tr th:only-of-type {\n",
       "        vertical-align: middle;\n",
       "    }\n",
       "\n",
       "    .dataframe tbody tr th {\n",
       "        vertical-align: top;\n",
       "    }\n",
       "\n",
       "    .dataframe thead th {\n",
       "        text-align: right;\n",
       "    }\n",
       "</style>\n",
       "<table border=\"1\" class=\"dataframe\">\n",
       "  <thead>\n",
       "    <tr style=\"text-align: right;\">\n",
       "      <th></th>\n",
       "      <th>Purchaser Name</th>\n",
       "      <th>Denomination(in millions)</th>\n",
       "    </tr>\n",
       "    <tr>\n",
       "      <th>Date of Purchase</th>\n",
       "      <th></th>\n",
       "      <th></th>\n",
       "    </tr>\n",
       "  </thead>\n",
       "  <tbody>\n",
       "    <tr>\n",
       "      <th>2019-04-12</th>\n",
       "      <td>A B C INDIA LIMITED</td>\n",
       "      <td>0.1</td>\n",
       "    </tr>\n",
       "    <tr>\n",
       "      <th>2019-04-12</th>\n",
       "      <td>A B C INDIA LIMITED</td>\n",
       "      <td>1.0</td>\n",
       "    </tr>\n",
       "    <tr>\n",
       "      <th>2019-04-12</th>\n",
       "      <td>ACROPOLIS MAINTENANCE SERVICES PRIVATE LIMITED</td>\n",
       "      <td>0.1</td>\n",
       "    </tr>\n",
       "    <tr>\n",
       "      <th>2019-04-12</th>\n",
       "      <td>ACROPOLIS MAINTENANCE SERVICES PRIVATE LIMITED</td>\n",
       "      <td>1.0</td>\n",
       "    </tr>\n",
       "    <tr>\n",
       "      <th>2019-04-12</th>\n",
       "      <td>ARIHANT ENTERPRISES</td>\n",
       "      <td>1.0</td>\n",
       "    </tr>\n",
       "  </tbody>\n",
       "</table>\n",
       "</div>"
      ],
      "text/plain": [
       "                                                  Purchaser Name  \\\n",
       "Date of Purchase                                                   \n",
       "2019-04-12                                   A B C INDIA LIMITED   \n",
       "2019-04-12                                   A B C INDIA LIMITED   \n",
       "2019-04-12        ACROPOLIS MAINTENANCE SERVICES PRIVATE LIMITED   \n",
       "2019-04-12        ACROPOLIS MAINTENANCE SERVICES PRIVATE LIMITED   \n",
       "2019-04-12                                   ARIHANT ENTERPRISES   \n",
       "\n",
       "                  Denomination(in millions)  \n",
       "Date of Purchase                             \n",
       "2019-04-12                              0.1  \n",
       "2019-04-12                              1.0  \n",
       "2019-04-12                              0.1  \n",
       "2019-04-12                              1.0  \n",
       "2019-04-12                              1.0  "
      ]
     },
     "execution_count": 23,
     "metadata": {},
     "output_type": "execute_result"
    }
   ],
   "source": [
    "purchased.head()"
   ]
  },
  {
   "cell_type": "markdown",
   "id": "997a58dc",
   "metadata": {
    "papermill": {
     "duration": 0.017763,
     "end_time": "2024-03-30T16:22:23.206567",
     "exception": false,
     "start_time": "2024-03-30T16:22:23.188804",
     "status": "completed"
    },
    "tags": []
   },
   "source": [
    "<h3><b>Exploratory Data Analysis</b></h3>"
   ]
  },
  {
   "cell_type": "markdown",
   "id": "6e47fb97",
   "metadata": {
    "papermill": {
     "duration": 0.017164,
     "end_time": "2024-03-30T16:22:23.241272",
     "exception": false,
     "start_time": "2024-03-30T16:22:23.224108",
     "status": "completed"
    },
    "tags": []
   },
   "source": [
    "<b><h3 style='font-size:18px'>Total denomination received by all parties?\n",
    "</h3></b>"
   ]
  },
  {
   "cell_type": "code",
   "execution_count": 24,
   "id": "274df42e",
   "metadata": {
    "execution": {
     "iopub.execute_input": "2024-03-30T16:22:23.278627Z",
     "iopub.status.busy": "2024-03-30T16:22:23.277983Z",
     "iopub.status.idle": "2024-03-30T16:22:23.285624Z",
     "shell.execute_reply": "2024-03-30T16:22:23.284413Z"
    },
    "papermill": {
     "duration": 0.028992,
     "end_time": "2024-03-30T16:22:23.287810",
     "exception": false,
     "start_time": "2024-03-30T16:22:23.258818",
     "status": "completed"
    },
    "tags": []
   },
   "outputs": [
    {
     "data": {
      "text/plain": [
       "4545.808"
      ]
     },
     "execution_count": 24,
     "metadata": {},
     "output_type": "execute_result"
    }
   ],
   "source": [
    "encashment['Denomination(in millions)'].sum()"
   ]
  },
  {
   "cell_type": "markdown",
   "id": "12e93a37",
   "metadata": {
    "papermill": {
     "duration": 0.018276,
     "end_time": "2024-03-30T16:22:23.325469",
     "exception": false,
     "start_time": "2024-03-30T16:22:23.307193",
     "status": "completed"
    },
    "tags": []
   },
   "source": [
    "<b style='font-size:18px'>4545 millions of Rupees is funded to all the political parties.</b>"
   ]
  },
  {
   "cell_type": "markdown",
   "id": "8ba78fd1",
   "metadata": {
    "papermill": {
     "duration": 0.017552,
     "end_time": "2024-03-30T16:22:23.360795",
     "exception": false,
     "start_time": "2024-03-30T16:22:23.343243",
     "status": "completed"
    },
    "tags": []
   },
   "source": [
    "<b><h3>Total denomination funded to all parties by the Purchaser?</h3></b>"
   ]
  },
  {
   "cell_type": "code",
   "execution_count": 25,
   "id": "a7042add",
   "metadata": {
    "execution": {
     "iopub.execute_input": "2024-03-30T16:22:23.398581Z",
     "iopub.status.busy": "2024-03-30T16:22:23.398145Z",
     "iopub.status.idle": "2024-03-30T16:22:23.404947Z",
     "shell.execute_reply": "2024-03-30T16:22:23.404071Z"
    },
    "papermill": {
     "duration": 0.028101,
     "end_time": "2024-03-30T16:22:23.407284",
     "exception": false,
     "start_time": "2024-03-30T16:22:23.379183",
     "status": "completed"
    },
    "tags": []
   },
   "outputs": [
    {
     "data": {
      "text/plain": [
       "12775.062000000002"
      ]
     },
     "execution_count": 25,
     "metadata": {},
     "output_type": "execute_result"
    }
   ],
   "source": [
    "purchased['Denomination(in millions)'].sum()"
   ]
  },
  {
   "cell_type": "markdown",
   "id": "a7f124b7",
   "metadata": {
    "papermill": {
     "duration": 0.018154,
     "end_time": "2024-03-30T16:22:23.443505",
     "exception": false,
     "start_time": "2024-03-30T16:22:23.425351",
     "status": "completed"
    },
    "tags": []
   },
   "source": [
    "<b style='font-size:18px'>12775 millions of Rupees is funded by all the purchasers.</b>\n",
    "</br>\n",
    "<p style='font-size:18px'>The data may not be exactly correct as we removed some values in the table (null values).</p>"
   ]
  },
  {
   "cell_type": "markdown",
   "id": "6c1417c2",
   "metadata": {
    "papermill": {
     "duration": 0.01743,
     "end_time": "2024-03-30T16:22:23.478740",
     "exception": false,
     "start_time": "2024-03-30T16:22:23.461310",
     "status": "completed"
    },
    "tags": []
   },
   "source": [
    "<b><h3>Total denominations received by each party?</h3></b>"
   ]
  },
  {
   "cell_type": "code",
   "execution_count": 26,
   "id": "b178a8da",
   "metadata": {
    "execution": {
     "iopub.execute_input": "2024-03-30T16:22:23.516663Z",
     "iopub.status.busy": "2024-03-30T16:22:23.515714Z",
     "iopub.status.idle": "2024-03-30T16:22:23.532832Z",
     "shell.execute_reply": "2024-03-30T16:22:23.531748Z"
    },
    "papermill": {
     "duration": 0.038939,
     "end_time": "2024-03-30T16:22:23.535332",
     "exception": false,
     "start_time": "2024-03-30T16:22:23.496393",
     "status": "completed"
    },
    "tags": []
   },
   "outputs": [
    {
     "data": {
      "text/html": [
       "<div>\n",
       "<style scoped>\n",
       "    .dataframe tbody tr th:only-of-type {\n",
       "        vertical-align: middle;\n",
       "    }\n",
       "\n",
       "    .dataframe tbody tr th {\n",
       "        vertical-align: top;\n",
       "    }\n",
       "\n",
       "    .dataframe thead th {\n",
       "        text-align: right;\n",
       "    }\n",
       "</style>\n",
       "<table border=\"1\" class=\"dataframe\">\n",
       "  <thead>\n",
       "    <tr style=\"text-align: right;\">\n",
       "      <th></th>\n",
       "      <th>Denomination(in millions)</th>\n",
       "    </tr>\n",
       "    <tr>\n",
       "      <th>Name of the Political Party</th>\n",
       "      <th></th>\n",
       "    </tr>\n",
       "  </thead>\n",
       "  <tbody>\n",
       "    <tr>\n",
       "      <th>BHARTIYA JANTA PARTY</th>\n",
       "      <td>929.953</td>\n",
       "    </tr>\n",
       "    <tr>\n",
       "      <th>PRESIDENT, ALL INDIA CONGRESS COMMITTEE</th>\n",
       "      <td>877.861</td>\n",
       "    </tr>\n",
       "    <tr>\n",
       "      <th>ALL INDIA TRINAMOOL CONGRESS</th>\n",
       "      <td>703.142</td>\n",
       "    </tr>\n",
       "    <tr>\n",
       "      <th>BHARAT RASHTRA SAMITHI</th>\n",
       "      <td>387.721</td>\n",
       "    </tr>\n",
       "    <tr>\n",
       "      <th>BIJU JANATA DAL</th>\n",
       "      <td>328.000</td>\n",
       "    </tr>\n",
       "    <tr>\n",
       "      <th>TELUGU DESAM PARTY</th>\n",
       "      <td>230.300</td>\n",
       "    </tr>\n",
       "    <tr>\n",
       "      <th>AAM AADMI PARTY</th>\n",
       "      <td>207.900</td>\n",
       "    </tr>\n",
       "    <tr>\n",
       "      <th>YSR CONGRESS PARTY (YUVAJANA SRAMIKA R</th>\n",
       "      <td>195.300</td>\n",
       "    </tr>\n",
       "    <tr>\n",
       "      <th>SHIVSENA (POLITICAL PARTY)</th>\n",
       "      <td>150.611</td>\n",
       "    </tr>\n",
       "    <tr>\n",
       "      <th>DMK PARTY IN PARLIAMENT</th>\n",
       "      <td>141.000</td>\n",
       "    </tr>\n",
       "    <tr>\n",
       "      <th>SIKKIM KRANTIKARI MORCHA</th>\n",
       "      <td>72.000</td>\n",
       "    </tr>\n",
       "    <tr>\n",
       "      <th>NATIONALIST CONGRESS PARTY PARLIAMENT OF</th>\n",
       "      <td>68.200</td>\n",
       "    </tr>\n",
       "    <tr>\n",
       "      <th>RASTRIYA JANTA DAL</th>\n",
       "      <td>55.100</td>\n",
       "    </tr>\n",
       "    <tr>\n",
       "      <th>BIHAR PRADESH JANTA DAL(UNITED)</th>\n",
       "      <td>40.000</td>\n",
       "    </tr>\n",
       "    <tr>\n",
       "      <th>JHARKHAND MUKTI MORCHA</th>\n",
       "      <td>33.100</td>\n",
       "    </tr>\n",
       "    <tr>\n",
       "      <th>JANASENA PARTY</th>\n",
       "      <td>32.000</td>\n",
       "    </tr>\n",
       "    <tr>\n",
       "      <th>ADYAKSHA SAMAJVADI PARTY</th>\n",
       "      <td>22.200</td>\n",
       "    </tr>\n",
       "    <tr>\n",
       "      <th>SHIROMANI AKALI DAL</th>\n",
       "      <td>13.120</td>\n",
       "    </tr>\n",
       "    <tr>\n",
       "      <th>JANATA DAL ( SECULAR )</th>\n",
       "      <td>12.000</td>\n",
       "    </tr>\n",
       "    <tr>\n",
       "      <th>ALL INDIA ANNA DRAVIDA MUNNETRA KAZHAGAM</th>\n",
       "      <td>11.100</td>\n",
       "    </tr>\n",
       "    <tr>\n",
       "      <th>SIKKIM DEMOCRATIC FRONT</th>\n",
       "      <td>11.000</td>\n",
       "    </tr>\n",
       "    <tr>\n",
       "      <th>RASHTRIYA JANTA DAL</th>\n",
       "      <td>10.000</td>\n",
       "    </tr>\n",
       "    <tr>\n",
       "      <th>SHIVSENA</th>\n",
       "      <td>10.000</td>\n",
       "    </tr>\n",
       "    <tr>\n",
       "      <th>MAHARASHTRAWADI GOMNTAK PARTY</th>\n",
       "      <td>1.100</td>\n",
       "    </tr>\n",
       "    <tr>\n",
       "      <th>GOA FORWARD PARTY</th>\n",
       "      <td>1.100</td>\n",
       "    </tr>\n",
       "    <tr>\n",
       "      <th>NATIONALIST CONGRESS PARTY MAHARASHTRA PRADESH</th>\n",
       "      <td>1.000</td>\n",
       "    </tr>\n",
       "    <tr>\n",
       "      <th>JAMMU AND KASHMIR NATIONAL CONFERENCE</th>\n",
       "      <td>1.000</td>\n",
       "    </tr>\n",
       "  </tbody>\n",
       "</table>\n",
       "</div>"
      ],
      "text/plain": [
       "                                                Denomination(in millions)\n",
       "Name of the Political Party                                              \n",
       "BHARTIYA JANTA PARTY                                              929.953\n",
       "PRESIDENT, ALL INDIA CONGRESS COMMITTEE                           877.861\n",
       "ALL INDIA TRINAMOOL CONGRESS                                      703.142\n",
       "BHARAT RASHTRA SAMITHI                                            387.721\n",
       "BIJU JANATA DAL                                                   328.000\n",
       "TELUGU DESAM PARTY                                                230.300\n",
       "AAM AADMI PARTY                                                   207.900\n",
       "YSR CONGRESS PARTY (YUVAJANA SRAMIKA R                            195.300\n",
       "SHIVSENA (POLITICAL PARTY)                                        150.611\n",
       "DMK PARTY IN PARLIAMENT                                           141.000\n",
       "SIKKIM KRANTIKARI MORCHA                                           72.000\n",
       "NATIONALIST CONGRESS PARTY PARLIAMENT OF                           68.200\n",
       "RASTRIYA JANTA DAL                                                 55.100\n",
       "BIHAR PRADESH JANTA DAL(UNITED)                                    40.000\n",
       "JHARKHAND MUKTI MORCHA                                             33.100\n",
       "JANASENA PARTY                                                     32.000\n",
       "ADYAKSHA SAMAJVADI PARTY                                           22.200\n",
       "SHIROMANI AKALI DAL                                                13.120\n",
       "JANATA DAL ( SECULAR )                                             12.000\n",
       "ALL INDIA ANNA DRAVIDA MUNNETRA KAZHAGAM                           11.100\n",
       "SIKKIM DEMOCRATIC FRONT                                            11.000\n",
       "RASHTRIYA JANTA DAL                                                10.000\n",
       "SHIVSENA                                                           10.000\n",
       "MAHARASHTRAWADI GOMNTAK PARTY                                       1.100\n",
       "GOA FORWARD PARTY                                                   1.100\n",
       "NATIONALIST CONGRESS PARTY MAHARASHTRA PRADESH                      1.000\n",
       "JAMMU AND KASHMIR NATIONAL CONFERENCE                               1.000"
      ]
     },
     "execution_count": 26,
     "metadata": {},
     "output_type": "execute_result"
    }
   ],
   "source": [
    "total_funds=encashment.groupby('Name of the Political Party').sum()\n",
    "\n",
    "total_funds.sort_values(by='Denomination(in millions)',ascending=False)"
   ]
  },
  {
   "cell_type": "markdown",
   "id": "222a5b5d",
   "metadata": {
    "papermill": {
     "duration": 0.017918,
     "end_time": "2024-03-30T16:22:23.571527",
     "exception": false,
     "start_time": "2024-03-30T16:22:23.553609",
     "status": "completed"
    },
    "tags": []
   },
   "source": [
    "<p style='font-size:18px'>Visualizing the above data</p>"
   ]
  },
  {
   "cell_type": "code",
   "execution_count": 27,
   "id": "7f84cc41",
   "metadata": {
    "execution": {
     "iopub.execute_input": "2024-03-30T16:22:23.610543Z",
     "iopub.status.busy": "2024-03-30T16:22:23.609972Z",
     "iopub.status.idle": "2024-03-30T16:22:23.615962Z",
     "shell.execute_reply": "2024-03-30T16:22:23.614931Z"
    },
    "papermill": {
     "duration": 0.027933,
     "end_time": "2024-03-30T16:22:23.618075",
     "exception": false,
     "start_time": "2024-03-30T16:22:23.590142",
     "status": "completed"
    },
    "tags": []
   },
   "outputs": [],
   "source": [
    "plt.style.use('ggplot')"
   ]
  },
  {
   "cell_type": "code",
   "execution_count": 28,
   "id": "aac182c6",
   "metadata": {
    "execution": {
     "iopub.execute_input": "2024-03-30T16:22:23.657509Z",
     "iopub.status.busy": "2024-03-30T16:22:23.656909Z",
     "iopub.status.idle": "2024-03-30T16:22:24.121825Z",
     "shell.execute_reply": "2024-03-30T16:22:24.120951Z"
    },
    "papermill": {
     "duration": 0.487934,
     "end_time": "2024-03-30T16:22:24.124461",
     "exception": false,
     "start_time": "2024-03-30T16:22:23.636527",
     "status": "completed"
    },
    "tags": []
   },
   "outputs": [
    {
     "data": {
      "image/png": "[encoded data removed]",
      "text/plain": [
       "<Figure size 640x480 with 1 Axes>"
      ]
     },
     "metadata": {},
     "output_type": "display_data"
    }
   ],
   "source": [
    "total_funds.nlargest(n=10,columns='Denomination(in millions)').plot(kind='pie',y='Denomination(in millions)',autopct='%.2f%%')\n",
    "plt.title('Highest Top 10 Political Parties denominations')\n",
    "plt.legend().remove();"
   ]
  },
  {
   "cell_type": "markdown",
   "id": "87e26f11",
   "metadata": {
    "papermill": {
     "duration": 0.019094,
     "end_time": "2024-03-30T16:22:24.163237",
     "exception": false,
     "start_time": "2024-03-30T16:22:24.144143",
     "status": "completed"
    },
    "tags": []
   },
   "source": [
    "<b style='font-size:18px'> From the above Pie Chart Bharatiya Janata Party(BJP) receieved highest denomination and next to BJP All India Congress Committee received highest denomination.</b>\n",
    "<br>\n",
    "<b style='font-size:18px'>In regional level, All India Trinamool Congress had received highest denomination and then Bharat Rastra Samithi.</b>"
   ]
  },
  {
   "cell_type": "markdown",
   "id": "0c4ebc91",
   "metadata": {
    "papermill": {
     "duration": 0.019764,
     "end_time": "2024-03-30T16:22:24.203043",
     "exception": false,
     "start_time": "2024-03-30T16:22:24.183279",
     "status": "completed"
    },
    "tags": []
   },
   "source": [
    "<b><h3>Total denominations purchased by individual Purchasers?</h3></b>"
   ]
  },
  {
   "cell_type": "code",
   "execution_count": 29,
   "id": "a420fd97",
   "metadata": {
    "execution": {
     "iopub.execute_input": "2024-03-30T16:22:24.245626Z",
     "iopub.status.busy": "2024-03-30T16:22:24.244797Z",
     "iopub.status.idle": "2024-03-30T16:22:24.261652Z",
     "shell.execute_reply": "2024-03-30T16:22:24.260453Z"
    },
    "papermill": {
     "duration": 0.040626,
     "end_time": "2024-03-30T16:22:24.263931",
     "exception": false,
     "start_time": "2024-03-30T16:22:24.223305",
     "status": "completed"
    },
    "tags": []
   },
   "outputs": [
    {
     "data": {
      "text/html": [
       "<div>\n",
       "<style scoped>\n",
       "    .dataframe tbody tr th:only-of-type {\n",
       "        vertical-align: middle;\n",
       "    }\n",
       "\n",
       "    .dataframe tbody tr th {\n",
       "        vertical-align: top;\n",
       "    }\n",
       "\n",
       "    .dataframe thead th {\n",
       "        text-align: right;\n",
       "    }\n",
       "</style>\n",
       "<table border=\"1\" class=\"dataframe\">\n",
       "  <thead>\n",
       "    <tr style=\"text-align: right;\">\n",
       "      <th></th>\n",
       "      <th>Denomination(in millions)</th>\n",
       "    </tr>\n",
       "    <tr>\n",
       "      <th>Purchaser Name</th>\n",
       "      <th></th>\n",
       "    </tr>\n",
       "  </thead>\n",
       "  <tbody>\n",
       "    <tr>\n",
       "      <th>FUTURE GAMING AND HOTEL SERVICES PR</th>\n",
       "      <td>200.000</td>\n",
       "    </tr>\n",
       "    <tr>\n",
       "      <th>MEGHA ENGINEERING AND INFRASTRUCTURES LI MITED</th>\n",
       "      <td>200.000</td>\n",
       "    </tr>\n",
       "    <tr>\n",
       "      <th>HALDIA ENERGY LIMITED</th>\n",
       "      <td>162.000</td>\n",
       "    </tr>\n",
       "    <tr>\n",
       "      <th>MKJ ENTERPRISES LIMITED</th>\n",
       "      <td>136.200</td>\n",
       "    </tr>\n",
       "    <tr>\n",
       "      <th>VEDANTA LIMITED</th>\n",
       "      <td>121.100</td>\n",
       "    </tr>\n",
       "    <tr>\n",
       "      <th>...</th>\n",
       "      <td>...</td>\n",
       "    </tr>\n",
       "    <tr>\n",
       "      <th>ARAVIND S</th>\n",
       "      <td>0.001</td>\n",
       "    </tr>\n",
       "    <tr>\n",
       "      <th>PAWAN AGARWAL</th>\n",
       "      <td>0.001</td>\n",
       "    </tr>\n",
       "    <tr>\n",
       "      <th>DAMINI NATH</th>\n",
       "      <td>0.001</td>\n",
       "    </tr>\n",
       "    <tr>\n",
       "      <th>ADWITA FINVEST PRIVATE LIMITED</th>\n",
       "      <td>0.001</td>\n",
       "    </tr>\n",
       "    <tr>\n",
       "      <th>MR GIRIDARAN MANIVANNAN</th>\n",
       "      <td>0.001</td>\n",
       "    </tr>\n",
       "  </tbody>\n",
       "</table>\n",
       "<p>1316 rows × 1 columns</p>\n",
       "</div>"
      ],
      "text/plain": [
       "                                                Denomination(in millions)\n",
       "Purchaser Name                                                           \n",
       "FUTURE GAMING AND HOTEL SERVICES PR                               200.000\n",
       "MEGHA ENGINEERING AND INFRASTRUCTURES LI MITED                    200.000\n",
       "HALDIA ENERGY LIMITED                                             162.000\n",
       "MKJ ENTERPRISES LIMITED                                           136.200\n",
       "VEDANTA LIMITED                                                   121.100\n",
       "...                                                                   ...\n",
       "ARAVIND S                                                           0.001\n",
       "PAWAN AGARWAL                                                       0.001\n",
       "DAMINI NATH                                                         0.001\n",
       "ADWITA FINVEST PRIVATE LIMITED                                      0.001\n",
       "MR GIRIDARAN MANIVANNAN                                             0.001\n",
       "\n",
       "[1316 rows x 1 columns]"
      ]
     },
     "execution_count": 29,
     "metadata": {},
     "output_type": "execute_result"
    }
   ],
   "source": [
    "purchaser=purchased.groupby('Purchaser Name').sum()\n",
    "\n",
    "purchaser.sort_values(by='Denomination(in millions)',ascending=False)"
   ]
  },
  {
   "cell_type": "code",
   "execution_count": 30,
   "id": "aabbecc8",
   "metadata": {
    "execution": {
     "iopub.execute_input": "2024-03-30T16:22:24.305877Z",
     "iopub.status.busy": "2024-03-30T16:22:24.305267Z",
     "iopub.status.idle": "2024-03-30T16:22:24.695141Z",
     "shell.execute_reply": "2024-03-30T16:22:24.694325Z"
    },
    "papermill": {
     "duration": 0.414405,
     "end_time": "2024-03-30T16:22:24.698342",
     "exception": false,
     "start_time": "2024-03-30T16:22:24.283937",
     "status": "completed"
    },
    "tags": []
   },
   "outputs": [
    {
     "data": {
      "image/png": "[encoded data removed]",
      "text/plain": [
       "<Figure size 640x480 with 1 Axes>"
      ]
     },
     "metadata": {},
     "output_type": "display_data"
    }
   ],
   "source": [
    "purchaser.nlargest(columns='Denomination(in millions)',n=15).plot(kind='pie',y='Denomination(in millions)',autopct='%.1f%%')\n",
    "plt.title('Highest Top 15 Purchasers');\n",
    "plt.legend().remove();"
   ]
  },
  {
   "cell_type": "markdown",
   "id": "e3d12105",
   "metadata": {
    "papermill": {
     "duration": 0.021219,
     "end_time": "2024-03-30T16:22:24.741802",
     "exception": false,
     "start_time": "2024-03-30T16:22:24.720583",
     "status": "completed"
    },
    "tags": []
   },
   "source": [
    "<b style='font-size:18px'>From the above Pie Chart Megha Engineering and Infrastructures Limited and Future Gaming and Hotel Services are the top purchasers of Electoral bonds</b>"
   ]
  },
  {
   "cell_type": "markdown",
   "id": "4679a531",
   "metadata": {
    "papermill": {
     "duration": 0.021708,
     "end_time": "2024-03-30T16:22:24.785160",
     "exception": false,
     "start_time": "2024-03-30T16:22:24.763452",
     "status": "completed"
    },
    "tags": []
   },
   "source": [
    "<b><h3>Denominations received in each year</h3></b>"
   ]
  },
  {
   "cell_type": "code",
   "execution_count": 31,
   "id": "57b0fc66",
   "metadata": {
    "execution": {
     "iopub.execute_input": "2024-03-30T16:22:24.830465Z",
     "iopub.status.busy": "2024-03-30T16:22:24.829801Z",
     "iopub.status.idle": "2024-03-30T16:22:25.181254Z",
     "shell.execute_reply": "2024-03-30T16:22:25.180028Z"
    },
    "papermill": {
     "duration": 0.376981,
     "end_time": "2024-03-30T16:22:25.183721",
     "exception": false,
     "start_time": "2024-03-30T16:22:24.806740",
     "status": "completed"
    },
    "tags": []
   },
   "outputs": [
    {
     "data": {
      "image/png": "[encoded data removed]",
      "text/plain": [
       "<Figure size 640x480 with 1 Axes>"
      ]
     },
     "metadata": {},
     "output_type": "display_data"
    }
   ],
   "source": [
    "encashment.groupby(encashment.index.year).sum(numeric_only=True).plot(kind='bar',color='red')\n",
    "plt.title('Total Denominations in each Year')\n",
    "plt.xlabel('Year of Encashment')\n",
    "plt.ylabel('Denomination(in millions)')\n",
    "plt.xticks(rotation=360)\n",
    "plt.legend().remove();"
   ]
  },
  {
   "cell_type": "markdown",
   "id": "5d4712fc",
   "metadata": {
    "papermill": {
     "duration": 0.022104,
     "end_time": "2024-03-30T16:22:25.228096",
     "exception": false,
     "start_time": "2024-03-30T16:22:25.205992",
     "status": "completed"
    },
    "tags": []
   },
   "source": [
    "<b style='font-size:18px'> From the above Bar Graph, most of the denominations are received in the year 2023.</b>\n",
    "<b style='font-size:18px'> As electoral bonds are introduced in 2019, denominations received are medium.</b>\n",
    "<b style='font-size:18px'> In the year 2020 and 2021, less denominations are received due to the impact of Covid pandemic. But the denominations are increasing slowly after pandemic.</b>"
   ]
  }
 ],
 "metadata": {
  "kaggle": {
   "accelerator": "none",
   "dataSources": [
    {
     "datasetId": 4599267,
     "sourceId": 7844359,
     "sourceType": "datasetVersion"
    }
   ],
   "dockerImageVersionId": 30664,
   "isGpuEnabled": false,
   "isInternetEnabled": true,
   "language": "python",
   "sourceType": "notebook"
  },
  "kernelspec": {
   "display_name": "Python 3",
   "language": "python",
   "name": "python3"
  },
  "language_info": {
   "codemirror_mode": {
    "name": "ipython",
    "version": 3
   },
   "file_extension": ".py",
   "mimetype": "text/x-python",
   "name": "python",
   "nbconvert_exporter": "python",
   "pygments_lexer": "ipython3",
   "version": "3.12.1"
  },
  "papermill": {
   "default_parameters": {},
   "duration": 12.717322,
   "end_time": "2024-03-30T16:22:25.871747",
   "environment_variables": {},
   "exception": null,
   "input_path": "__notebook__.ipynb",
   "output_path": "__notebook__.ipynb",
   "parameters": {},
   "start_time": "2024-03-30T16:22:13.154425",
   "version": "2.5.0"
  }
 },
 "nbformat": 4,
 "nbformat_minor": 5
}
